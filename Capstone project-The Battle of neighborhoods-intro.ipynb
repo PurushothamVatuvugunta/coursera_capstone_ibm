{
    "cells": [
        {
            "cell_type": "markdown",
            "metadata": {
                "collapsed": true
            },
            "source": "## CAPSTONE PROJECT (WEEK-1)\n\n### INTRODUCTION"
        },
        {
            "cell_type": "markdown",
            "metadata": {},
            "source": "COVID-19 is an infectious disease caused by the most recently discovered coronavirus. This new virus and disease were unknown before the outbreak began in Wuhan, China, in December 2019. COVID-19 is now a pandemic affecting many countries globally. WHO announced COVID-19 outbreak as a pandemic on 11 March 2020.\n\n213 Countries and Territories around the world have reported a total of 23,586,511 confirmed cases of the coronavirus COVID-19 and a death toll of 812,527 deaths. 5 countries most affected are -"
        },
        {
            "cell_type": "markdown",
            "metadata": {},
            "source": "|COUNTRY||CASES||DEATHS|\n|-----||-----||------|\n|United states||5,874,146||180,604|\n|Brazil||3,605,783||114,772|\n|India||3,106,348||57,692|\n|Russia||956,749||16,383|\n|South Africa||609,773||13,059|"
        },
        {
            "cell_type": "markdown",
            "metadata": {},
            "source": "## Covid-19 situation in NYC\nNew York City, which was once the epicentre of the pandemic in the US, has reported a total of 236,822 cases and 23,658 confirmed deaths (Source: The New York Times-Aug 23, 2020). It hit its peak in terms of confirmed daily deaths from the virus on April 7, with 597 deaths.\n\n## Business Problem\nIn this project I am going to analyse COVID-19 situation in NYC. Number of cases in each neighborhood along with hospitals located in the neighborhood will be used to analyse which hospitals possibly have higher need for resources. During a pandemic, when health resources are likely to be limited, setting priorities and rationing resources should be justified. Hospitals in areas with higher number of cases are more likely in shortage of resources like hospital supplies, protective gear for clinical staff, and oxygenation and respiratory equipment, direct patient care including additional services and staffing.\n\n## Target Audience\nGovernmental and non-governmental organisations, non-profits and charity organisations, any volunteer willing to help by donating resources or time."
        },
        {
            "cell_type": "markdown",
            "metadata": {},
            "source": "## DATA COLLECTION\nData was collected from the following sources :\n\nNYC data set - New York City data that contains borough, neighborhoods along with their latitudes and longitudes.\n1. NYC COVID-19 data set - CSV file from https://www1.nyc.gov/site/doh/covid/covid-19-data.page which contains Number of Covid-19 Cases in each Neighborhoods and Borough.\n2. Foursquare location data - Hospitals in each neighborhood is fetched from foursquare API.\n3. Using coordinates of each neighborhood from the data, number of hospitals and their locations in area will be extracted. Hospitals in areas with highest number of COVID cases will be determined, which possibly require more resources. Such hospitals can be brought under attention and provided with funding and supplies.\n\nThis analysis can be used as one of the factors before donation and should not be the only means to determine. Other factors like temporary covid wards, isolation wards, number of beds, ICU beds in hospitals etc. are important to considerate before donation."
        },
        {
            "cell_type": "markdown",
            "metadata": {},
            "source": "*This analysis can be used as one of the factors before donation and should not be the only means to determine. Other factors like temporary covid wards, isolation wards, number of beds, ICU beds in hospitals etc. are important to considerate before donation.*"
        },
        {
            "cell_type": "code",
            "execution_count": null,
            "metadata": {},
            "outputs": [],
            "source": ""
        }
    ],
    "metadata": {
        "kernelspec": {
            "display_name": "Python 3.6",
            "language": "python",
            "name": "python3"
        },
        "language_info": {
            "codemirror_mode": {
                "name": "ipython",
                "version": 3
            },
            "file_extension": ".py",
            "mimetype": "text/x-python",
            "name": "python",
            "nbconvert_exporter": "python",
            "pygments_lexer": "ipython3",
            "version": "3.6.9"
        }
    },
    "nbformat": 4,
    "nbformat_minor": 1
}